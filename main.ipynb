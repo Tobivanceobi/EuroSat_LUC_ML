{
 "cells": [
  {
   "cell_type": "code",
   "id": "initial_id",
   "metadata": {
    "collapsed": true,
    "jupyter": {
     "is_executing": true
    }
   },
   "source": [
    "from config import Config\n",
    "from src.colors import bcolors\n",
    "\n",
    "c = bcolors()\n",
    "config = Config()"
   ],
   "outputs": [],
   "execution_count": null
  },
  {
   "metadata": {},
   "cell_type": "code",
   "outputs": [],
   "execution_count": null,
   "source": [
    "from sklearn.preprocessing import LabelEncoder\n",
    "import pandas as pd\n",
    "\n",
    "df = pd.read_csv(config.TRAIN_FILE)\n",
    "encoder = LabelEncoder()\n",
    "encoder = encoder.fit(df[['label']].values.reshape(-1, 1))"
   ],
   "id": "f3a36afce8705ec3"
  },
  {
   "metadata": {},
   "cell_type": "markdown",
   "source": [
    "### Initialize Dataset\n",
    "For feature extraction you can specify a string:\n",
    "- `feature_extractor=\"color_hist\"` <br>extracts color histogram\n",
    "- `feature_extractor=\"hog\"` <br>extracts Histogram of Oriented Gradients"
   ],
   "id": "63e24282b6344554"
  },
  {
   "metadata": {},
   "cell_type": "code",
   "outputs": [],
   "execution_count": null,
   "source": [
    "from src.dataset import EuroSatMS\n",
    "from sklearn.model_selection import train_test_split\n",
    "\n",
    "train_df, val_df = train_test_split(df, test_size=0.04, stratify=df['label'])\n",
    "print(df['label'].unique())\n",
    "\n",
    "ds_train = EuroSatMS(\n",
    "    train_df, \n",
    "    config.TRAIN_MS_DIR,\n",
    "    feature_extractor=\"color_hist\",\n",
    "    encoder=encoder,\n",
    "    select_chan=[3, 2, 1],\n",
    ")"
   ],
   "id": "f54d19758e3a9a82"
  }
 ],
 "metadata": {
  "kernelspec": {
   "display_name": "Python 3",
   "language": "python",
   "name": "python3"
  },
  "language_info": {
   "codemirror_mode": {
    "name": "ipython",
    "version": 2
   },
   "file_extension": ".py",
   "mimetype": "text/x-python",
   "name": "python",
   "nbconvert_exporter": "python",
   "pygments_lexer": "ipython2",
   "version": "2.7.6"
  }
 },
 "nbformat": 4,
 "nbformat_minor": 5
}
