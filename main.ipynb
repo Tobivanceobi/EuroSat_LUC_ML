{
 "cells": [
  {
   "metadata": {},
   "cell_type": "markdown",
   "source": "# EuroSat Dataset ML Models",
   "id": "c417873dd1a41ec9"
  },
  {
   "cell_type": "code",
   "id": "initial_id",
   "metadata": {
    "collapsed": true,
    "ExecuteTime": {
     "end_time": "2024-04-08T12:16:06.164403Z",
     "start_time": "2024-04-08T12:16:06.153537Z"
    }
   },
   "source": [
    "from config import Config\n",
    "from src.colors import bcolors\n",
    "\n",
    "c = bcolors()\n",
    "config = Config()"
   ],
   "outputs": [],
   "execution_count": 1
  },
  {
   "metadata": {},
   "cell_type": "markdown",
   "source": [
    "### Load Data\n",
    "For the training/validation data we use the csv for train.\n",
    "The test data (manually labeled) is stored in a csv file with the labels."
   ],
   "id": "42818754110f3bac"
  },
  {
   "metadata": {
    "ExecuteTime": {
     "end_time": "2024-04-08T12:16:08.324491Z",
     "start_time": "2024-04-08T12:16:07.333872Z"
    }
   },
   "cell_type": "code",
   "source": [
    "from sklearn.preprocessing import LabelEncoder\n",
    "import pandas as pd\n",
    "\n",
    "df = pd.read_csv(config.TRAIN_FILE)\n",
    "test_df = pd.read_csv(\"labels.csv\")\n",
    "\n",
    "encoder = LabelEncoder()\n",
    "encoder = encoder.fit(df[['label']].values.flatten())"
   ],
   "id": "f3a36afce8705ec3",
   "outputs": [],
   "execution_count": 2
  },
  {
   "metadata": {},
   "cell_type": "markdown",
   "source": [
    "For feature extraction you can specify a list of strings:\n",
    "\n",
    "| feature name | description                              |\n",
    "|--------------|------------------------------------------|\n",
    "| color_hist   | extracts color histogram                 |\n",
    "| hog          | extracts Histogram of Oriented Gradients |\n"
   ],
   "id": "63e24282b6344554"
  },
  {
   "metadata": {
    "jupyter": {
     "is_executing": true
    },
    "ExecuteTime": {
     "start_time": "2024-04-08T12:16:09.832517Z"
    }
   },
   "cell_type": "code",
   "source": [
    "from src.dataset import EuroSatMS\n",
    "from sklearn.model_selection import train_test_split\n",
    "\n",
    "channels = [3, 2, 1]\n",
    "fe_methods = [\"color_hist\", \"hog\"]\n",
    "\n",
    "train_df, val_df = train_test_split(df, test_size=0.1, stratify=df['label'])\n",
    "\n",
    "ds_val = EuroSatMS(\n",
    "    val_df, \n",
    "    config.TRAIN_MS_DIR,\n",
    "    feature_extractor=fe_methods,\n",
    "    encoder=encoder,\n",
    "    select_chan=channels,\n",
    ")\n",
    "\n",
    "ds_test = EuroSatMS(\n",
    "    test_df, \n",
    "    config.TEST_MS_DIR,\n",
    "    feature_extractor=fe_methods,\n",
    "    encoder=encoder,\n",
    "    select_chan=channels,\n",
    ")\n",
    "\n",
    "ds_train = EuroSatMS(\n",
    "    train_df, \n",
    "    config.TRAIN_MS_DIR,\n",
    "    feature_extractor=fe_methods,\n",
    "    encoder=encoder,\n",
    "    select_chan=channels,\n",
    ")"
   ],
   "id": "f54d19758e3a9a82",
   "outputs": [
    {
     "name": "stdout",
     "output_type": "stream",
     "text": [
      "\n",
      "\u001B[92mPreloading images...\u001B[0m\n",
      "\n",
      "\u001B[96mImages:         2700\u001B[0m\n",
      "\u001B[96mJobs:           -4 \u001B[0m\n",
      "\n",
      "\n",
      "\u001B[94mTime taken:      0 min 17.292309045791626 sec \u001B[0m\n",
      "\n",
      "\u001B[92mPreloading images...\u001B[0m\n",
      "\n",
      "\u001B[96mImages:         1003\u001B[0m\n",
      "\u001B[96mJobs:           -4 \u001B[0m\n",
      "\n",
      "\n",
      "\u001B[94mTime taken:      0 min 4.680271863937378 sec \u001B[0m\n",
      "\n",
      "\u001B[92mPreloading images...\u001B[0m\n",
      "\n",
      "\u001B[96mImages:         24300\u001B[0m\n",
      "\u001B[96mJobs:           -4 \u001B[0m\n",
      "\n"
     ]
    }
   ],
   "execution_count": null
  },
  {
   "metadata": {},
   "cell_type": "code",
   "source": [
    "print(ds_train[0][0].shape)\n",
    "print(ds_train[0][1])"
   ],
   "id": "e4c1b2e9f215cc19",
   "outputs": [],
   "execution_count": null
  },
  {
   "metadata": {},
   "cell_type": "markdown",
   "source": "## Prepare Data",
   "id": "7ddede977cd6b376"
  },
  {
   "metadata": {},
   "cell_type": "code",
   "source": [
    "import numpy as np\n",
    "\n",
    "X_train = ds_train.samples\n",
    "y_train = ds_train.targets\n",
    "X_test = ds_test.samples\n",
    "y_test = ds_test.targets\n",
    "\n",
    "print(f\"X_train.shape -> {X_train.shape}\\n\"\n",
    "      f\"y_train.shape -> {y_train.shape}\\n\"\n",
    "      f\"X_test.shape  -> {X_test.shape}\\n\"\n",
    "      f\"y_test.shape  -> {y_test.shape}\")\n",
    "\n",
    "# extend X_train and y_train with X_test and y_test and create a list for the test/train fold indexes\n",
    "feats = np.concatenate([X_train, X_test], axis=0)\n",
    "labels = np.concatenate([y_train, y_test], axis=0)\n",
    "feats_train_idx = np.arange(0, X_train.shape[0])\n",
    "feats_test_idx = np.arange(X_train.shape[0], X_train.shape[0] + X_test.shape[0])\n",
    "\n",
    "fold_idx = [(feats_train_idx, feats_test_idx)]"
   ],
   "id": "6d70296336f67799",
   "outputs": [],
   "execution_count": null
  },
  {
   "metadata": {},
   "cell_type": "markdown",
   "source": [
    "## Train Models\n",
    "### XGBoost"
   ],
   "id": "b11ff969ce7d90f1"
  },
  {
   "metadata": {},
   "cell_type": "code",
   "source": [
    "from skopt.space import Integer, Real, Categorical\n",
    "from xgboost import XGBClassifier, callback\n",
    "from sklearn.model_selection import StratifiedKFold\n",
    "\n",
    "import xgboost as xgb\n",
    "from skopt import BayesSearchCV\n",
    "\n",
    "# Assuming ds_train and ds_test are defined and contain your training and test datasets\n",
    "\n",
    "    \n",
    "model = XGBClassifier(\n",
    "    nthread=-1,\n",
    "    seed=27,\n",
    "    device=\"cuda\",\n",
    ")\n",
    "\n",
    "parameter_space = {\n",
    "    'n_estimators': Integer(400, 500),\n",
    "    'learning_rate': Real(0.0001, 0.01, prior='log-uniform'),\n",
    "    'max_depth': Integer(3, 6),\n",
    "    'subsample': Real(0.3, 0.7),\n",
    "    'colsample_bytree': Real(0.3, 0.7),\n",
    "    'booster': Categorical(['gbtree']),\n",
    "    'reg_lambda': Integer(0, 30),\n",
    "    'reg_alpha': Integer(0, 30),\n",
    "    'gamma': Real(0.0, 3.0),\n",
    "}\n",
    "\n",
    "fit_param = {\n",
    "    'early_stopping_rounds': 20,\n",
    "    'eval_metric': 'mlogloss'\n",
    "}\n",
    "\n",
    "clf = BayesSearchCV(estimator=model,\n",
    "                    search_spaces=parameter_space,\n",
    "                    fit_params=fit_param,\n",
    "                    cv=fold_idx,\n",
    "                    n_iter=30,\n",
    "                    scoring='accuracy',\n",
    "                    verbose=4)\n",
    "\n",
    "clf.fit(feats, y=labels)\n",
    "print(clf.cv_results_)\n",
    "print(clf.best_score_)\n",
    "print(clf.best_params_)\n",
    "results = pd.DataFrame(clf.cv_results_)\n",
    "results.to_csv(\"results.csv\")"
   ],
   "id": "a3f832f2524d7a4b",
   "outputs": [],
   "execution_count": null
  },
  {
   "metadata": {},
   "cell_type": "markdown",
   "source": "### SVC",
   "id": "bcb82561e09d55b2"
  },
  {
   "metadata": {},
   "cell_type": "code",
   "source": [
    "y_pred = model.predict(x[fold_idx[0][1]])\n",
    "accuracy = accuracy_score(labels[fold_idx[0][1]], y_pred)\n",
    "print(f\"Model accuracy: {accuracy:.4f}\")"
   ],
   "id": "7ab05d4136414b3",
   "outputs": [],
   "execution_count": null
  },
  {
   "metadata": {},
   "cell_type": "code",
   "source": "",
   "id": "cea7f90af471a39",
   "outputs": [],
   "execution_count": null
  }
 ],
 "metadata": {
  "kernelspec": {
   "display_name": "Python 3",
   "language": "python",
   "name": "python3"
  },
  "language_info": {
   "codemirror_mode": {
    "name": "ipython",
    "version": 2
   },
   "file_extension": ".py",
   "mimetype": "text/x-python",
   "name": "python",
   "nbconvert_exporter": "python",
   "pygments_lexer": "ipython2",
   "version": "2.7.6"
  }
 },
 "nbformat": 4,
 "nbformat_minor": 5
}
